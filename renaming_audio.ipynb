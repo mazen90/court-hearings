{
 "cells": [
  {
   "cell_type": "code",
   "execution_count": 1,
   "id": "52e6b20f",
   "metadata": {},
   "outputs": [],
   "source": [
    "import os"
   ]
  },
  {
   "cell_type": "code",
   "execution_count": 3,
   "id": "f2009b19",
   "metadata": {},
   "outputs": [],
   "source": [
    "class file:\n",
    "    def __init__(self, path):\n",
    "        self.path = path\n",
    "        self.new_name = None\n",
    "        self.fileformat = self.path.split('.')[-1]\n",
    "    def set_numeric_name(self):\n",
    "        '''\n",
    "        extract numbers from filename\n",
    "        '''\n",
    "        new_name_list = []\n",
    "        filename = self.path.split('/')[-1]\n",
    "        for i in filename:\n",
    "            \n",
    "            if i.isnumeric():\n",
    "                new_name_list.append(i)\n",
    "            \n",
    "                \n",
    "\n",
    "        self.new_name = ''.join(new_name_list) \n",
    "    def rename(self):\n",
    "        '''\n",
    "        This function renames the file with preset new_name instance variable\n",
    "        '''\n",
    "        assert self.new_name.isnumeric(), 'Please set new name first'\n",
    "        new_path = '/'.join(self.path.split('/')[0:-1]) + '/' + self.new_name + '.' + self.fileformat\n",
    "        os.rename(self.path, new_path)\n",
    "    def fill(self, length):\n",
    "        ''' \n",
    "        zero fills the new name to make file names have fixed length\n",
    "        '''\n",
    "        assert len(self.new_name) in range(length + 1), 'invalid file name {} path : {}'.format(self.new_name, self.path)\n",
    "        self.new_name = (length - len(self.new_name))*'0' + self.new_name"
   ]
  },
  {
   "cell_type": "code",
   "execution_count": 9,
   "id": "67073a44",
   "metadata": {},
   "outputs": [],
   "source": [
    "paths = ['list-of-files']\n",
    "dir_path = 'your-path'\n",
    "def main():\n",
    "    for x in paths:\n",
    "        path = dir_path + x\n",
    "        path_list = os.listdir(marsil_path)\n",
    "        for j in path_list:\n",
    "            temp_path = path + j\n",
    "            f = file(temp_path)\n",
    "            f.set_numeric_name()\n",
    "            f.fill(3)\n",
    "            f.rename()"
   ]
  }
 ],
 "metadata": {
  "kernelspec": {
   "display_name": "Python 3",
   "language": "python",
   "name": "python3"
  },
  "language_info": {
   "codemirror_mode": {
    "name": "ipython",
    "version": 3
   },
   "file_extension": ".py",
   "mimetype": "text/x-python",
   "name": "python",
   "nbconvert_exporter": "python",
   "pygments_lexer": "ipython3",
   "version": "3.6.9"
  }
 },
 "nbformat": 4,
 "nbformat_minor": 5
}
